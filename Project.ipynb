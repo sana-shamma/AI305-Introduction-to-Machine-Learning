{
 "cells": [
  {
   "cell_type": "markdown",
   "id": "6328ef88",
   "metadata": {},
   "source": [
    "## Fetch the Data"
   ]
  },
  {
   "cell_type": "code",
   "execution_count": 1,
   "id": "aedc2225",
   "metadata": {},
   "outputs": [],
   "source": [
    "# Initial Python environment setup...\n",
    "import numpy as np #Working with arrays\n",
    "import pandas as pd #Read CSV file \n",
    "import matplotlib.pyplot as plt # Use to visualizations\n",
    "from sklearn.linear_model import LinearRegression"
   ]
  },
  {
   "cell_type": "code",
   "execution_count": 2,
   "id": "a251ff87",
   "metadata": {},
   "outputs": [
    {
     "data": {
      "text/plain": [
       "key                   object\n",
       "fare_amount          float64\n",
       "pickup_datetime       object\n",
       "pickup_longitude     float64\n",
       "pickup_latitude      float64\n",
       "dropoff_longitude    float64\n",
       "dropoff_latitude     float64\n",
       "passenger_count        int64\n",
       "dtype: object"
      ]
     },
     "execution_count": 2,
     "metadata": {},
     "output_type": "execute_result"
    }
   ],
   "source": [
    "train_df =  pd.read_csv('train.csv', nrows = 10000) #1000 will read it from train file \n",
    "train_df.dtypes #Print the datatype of the feature "
   ]
  },
  {
   "cell_type": "code",
   "execution_count": 3,
   "id": "9c9f670f",
   "metadata": {},
   "outputs": [],
   "source": [
    "# Given a dataframe, add two new features 'abs_diff_longitude' and 'abs_diff_latitude' reprensenting the \"Manhattan vector\" \n",
    "#from the pickup location to the dropoff location.\n",
    "\n",
    "def add_travel_vector_features(df):\n",
    "    df['abs_diff_longitude'] = (df.dropoff_longitude - df.pickup_longitude).abs()\n",
    "    df['abs_diff_latitude'] = (df.dropoff_latitude - df.pickup_latitude).abs()\n",
    "    \n",
    "add_travel_vector_features(train_df)"
   ]
  },
  {
   "cell_type": "markdown",
   "id": "33cbeea7",
   "metadata": {},
   "source": [
    "## Clean the Data"
   ]
  },
  {
   "cell_type": "code",
   "execution_count": 4,
   "id": "2332a059",
   "metadata": {},
   "outputs": [
    {
     "name": "stdout",
     "output_type": "stream",
     "text": [
      "key                   0\n",
      "fare_amount           0\n",
      "pickup_datetime       0\n",
      "pickup_longitude      0\n",
      "pickup_latitude       0\n",
      "dropoff_longitude     0\n",
      "dropoff_latitude      0\n",
      "passenger_count       0\n",
      "abs_diff_longitude    0\n",
      "abs_diff_latitude     0\n",
      "dtype: int64\n"
     ]
    }
   ],
   "source": [
    "#Check the missing by varible \n",
    "print(train_df.isnull().sum())"
   ]
  },
  {
   "cell_type": "code",
   "execution_count": 5,
   "id": "9b147312",
   "metadata": {},
   "outputs": [
    {
     "name": "stdout",
     "output_type": "stream",
     "text": [
      "Old size: 10000\n",
      "New size: 10000\n"
     ]
    }
   ],
   "source": [
    "#https://pandas.pydata.org/pandas-docs/stable/reference/api/pandas.DataFrame.dropna.html\n",
    "print('Old size: %d' % len(train_df))\n",
    "train_df = train_df.dropna(how = 'any', axis = 'rows') #(row/index) will be deleted if it contains at least NAN values  \n",
    "print('New size: %d' % len(train_df))"
   ]
  },
  {
   "cell_type": "code",
   "execution_count": 6,
   "id": "5766cf34",
   "metadata": {},
   "outputs": [
    {
     "data": {
      "image/png": "[encoded data removed]",
      "text/plain": [
       "<Figure size 432x288 with 1 Axes>"
      ]
     },
     "metadata": {
      "needs_background": "light"
     },
     "output_type": "display_data"
    }
   ],
   "source": [
    "#Will visialize 2000 examples \n",
    "plot = train_df.iloc[:2000].plot.scatter('abs_diff_longitude', 'abs_diff_latitude')"
   ]
  },
  {
   "cell_type": "code",
   "execution_count": 7,
   "id": "3f1ba00b",
   "metadata": {},
   "outputs": [
    {
     "name": "stdout",
     "output_type": "stream",
     "text": [
      "Old size: 10000\n",
      "New size: 9987\n"
     ]
    }
   ],
   "source": [
    "#Remove examples that have extrem values such as 69\n",
    "print('Old size: %d' % len(train_df))\n",
    "train_df = train_df[(train_df.abs_diff_longitude < 5.0) & (train_df.abs_diff_latitude < 5.0)]\n",
    "print('New size: %d' % len(train_df))"
   ]
  },
  {
   "cell_type": "markdown",
   "id": "d0c0e4ed",
   "metadata": {},
   "source": [
    "## Training the Model"
   ]
  },
  {
   "cell_type": "markdown",
   "id": "dfc7688c",
   "metadata": {},
   "source": [
    "### 1. Normal Equation "
   ]
  },
  {
   "cell_type": "code",
   "execution_count": 8,
   "id": "840f4cec",
   "metadata": {},
   "outputs": [
    {
     "name": "stdout",
     "output_type": "stream",
     "text": [
      "13.742994165848083\n"
     ]
    }
   ],
   "source": [
    "from sklearn.model_selection import train_test_split #Split arrays or matrices into train and test subsets.\n",
    "\n",
    "#Calulate the distance: from the pickup location to the dropoff location by using longitude & latitude\n",
    "def add_travel_vector_features(df):\n",
    "    df['abs_diff_longitude'] = (df.dropoff_longitude - df.pickup_longitude).abs()\n",
    "    df['abs_diff_latitude'] = (df.dropoff_latitude - df.pickup_latitude).abs()\n",
    "\n",
    "#Take a sequence of 1-D arrays and stack them as columns to make a single 2-D array --> convert input data into matrix\n",
    "def get_input_matrix(df):\n",
    "    return np.column_stack((df.abs_diff_longitude, df.abs_diff_latitude, np.ones(len(df))))\n",
    "\n",
    "#Calculate the loss function\n",
    "def cost_function(X,Y,w):\n",
    "    total_cost=0.0\n",
    "    N=len(X)\n",
    "    \n",
    "    for i in range(N):\n",
    "        total_cost+=(Y[i]-(w*X[i]))**2\n",
    "    return  total_cost/(2*float(N))\n",
    "\n",
    "#Read the train dataset\n",
    "N_df =  pd.read_csv('train.csv', nrows = 1000000)\n",
    "\n",
    "## Given a dataframe, add two new features 'abs_diff_longitude' and 'abs_diff_latitude' reprensenting the \"Manhattan vector\" \n",
    "#from the pickup location to the dropoff location.\n",
    "add_travel_vector_features(N_df)\n",
    "\n",
    "#(row/index) will be deleted if it contains at least NAN values\n",
    "N_df = N_df.dropna(how = 'any', axis = 'rows')\n",
    "\n",
    "#Remove examples that have extrem values\n",
    "N_df = N_df[(N_df.abs_diff_longitude < 0.5) & (N_df.abs_diff_latitude < 0.5)]\n",
    "\n",
    "#N_X matrix contains train data(input)\n",
    "N_X = get_input_matrix(N_df)\n",
    "\n",
    "#N_y is a vector contains output data\n",
    "N_y = np.array(N_df['fare_amount'])\n",
    "\n",
    "#Split arrays or matrices into train and test subsets.\n",
    "#test_size:proportion of the dataset to include in the test split\n",
    "N_X_train, N_X_test, N_y_train, N_y_test=train_test_split(N_X , N_y, test_size=0.2, random_state=3)\n",
    "\n",
    "train_X = N_X_train\n",
    "train_y =N_y_train\n",
    "\n",
    "#Return the least-squares solution to a linear matrix equation.\n",
    "(w, _, _, _) = np.linalg.lstsq(train_X, train_y, rcond = None) \n",
    "\n",
    "\n",
    "test_X = N_X_test\n",
    "test_y_predictions = np.matmul(test_X, w).round(decimals = 2)\n",
    "train_y_predictions = np.matmul(train_X, w).round(decimals = 2)\n",
    "\n",
    "c=np.sum(np.power((test_y_predictions  - N_y_test),2))/(2*len( N_y_test))\n",
    "print(c)\n",
    "\n",
    "#print(cost_function(N_X_train,N_y_train,w))\n",
    "\n",
    "#print(mean_squared_error(test_y_predictions, N_y_test,squared=False))\n",
    "#print(mean_squared_error(train_y_predictions, N_y_train,squared=False))"
   ]
  },
  {
   "cell_type": "markdown",
   "id": "7379574f",
   "metadata": {},
   "source": [
    "### 2.Gradient Descent"
   ]
  },
  {
   "cell_type": "code",
   "execution_count": 9,
   "id": "24e0b55d",
   "metadata": {},
   "outputs": [
    {
     "name": "stdout",
     "output_type": "stream",
     "text": [
      "[ 7.45664592 11.15109142  7.05377892 ...  7.45930887 12.19878184\n",
      "  7.32943598]\n"
     ]
    }
   ],
   "source": [
    "def add_travel_vector_features(df):\n",
    "    df['abs_diff_longitude'] = (df.dropoff_longitude - df.pickup_longitude).abs()\n",
    "    df['abs_diff_latitude'] = (df.dropoff_latitude - df.pickup_latitude).abs()\n",
    "\n",
    "def get_input_matrix(df):\n",
    "    return np.column_stack((df.abs_diff_longitude, df.abs_diff_latitude, np.ones(len(df))))\n",
    "\n",
    "N_df =  pd.read_csv('train.csv', nrows = 100000)\n",
    "\n",
    "add_travel_vector_features(N_df)\n",
    "\n",
    "N_df = N_df.dropna(how = 'any', axis = 'rows')\n",
    "N_df = N_df[(N_df.abs_diff_longitude < 0.5) & (N_df.abs_diff_latitude < 0.5)]\n",
    "\n",
    "N_X = get_input_matrix(N_df)\n",
    "N_y = np.array(N_df['fare_amount'])\n",
    "\n",
    "\n",
    "N_X_train, N_X_test, N_y_train, N_y_test=train_test_split(N_X , N_y, test_size=0.2, random_state=3)\n",
    "\n",
    "#Function linear Regreation\n",
    "l_reg = LinearRegression()\n",
    "\n",
    "#Train the model\n",
    "l_reg.fit(N_X_train, N_y_train)\n",
    "\n",
    "#Enter the test data and predict the output \n",
    "y_pred = l_reg.predict(N_X_test)\n",
    "print(y_pred)\n",
    "#Calulate the cost of the train\n",
    "#r1_score = l_reg.score(N_X_train,N_y_train)\n",
    "#print(r1_score)\n",
    "\n",
    "#Calucate the cost of the tes\n",
    "#r2_score = l_reg.score(N_X_test,N_y_test)\n",
    "#print(r2_score)\n",
    "\n",
    "#print(mean_squared_error(N_y_test, y_pred,squared=False))"
   ]
  },
  {
   "cell_type": "markdown",
   "id": "85660ed1",
   "metadata": {},
   "source": [
    "### 3. Decision Tree"
   ]
  },
  {
   "cell_type": "code",
   "execution_count": 12,
   "id": "3eba3dd1",
   "metadata": {},
   "outputs": [
    {
     "name": "stdout",
     "output_type": "stream",
     "text": [
      "0.9147332647682738\n",
      "0.7013491040544229\n"
     ]
    }
   ],
   "source": [
    "# Using DT\n",
    "from sklearn.ensemble import RandomForestRegressor\n",
    "from sklearn.model_selection import train_test_split\n",
    "from sklearn.model_selection import GridSearchCV\n",
    "import numpy as np\n",
    "\n",
    "def add_travel_vector_features(df):\n",
    "    df['abs_diff_longitude'] = (df.dropoff_longitude - df.pickup_longitude).abs()\n",
    "    df['abs_diff_latitude'] = (df.dropoff_latitude - df.pickup_latitude).abs()\n",
    "\n",
    "def get_DT_input_matrix(df):\n",
    "    return np.column_stack((df.abs_diff_longitude, df.abs_diff_latitude, np.ones(len(df))))\n",
    "\n",
    "# Number of trees in random forest\n",
    "n_estimators = [int(x) for x in np.linspace(start = 10, stop = 80, num = 200)]\n",
    "# Number of features to consider at every split\n",
    "max_features = ['auto', 'sqrt']\n",
    "# Maximum number of levels in tree\n",
    "max_depth = [2,10,15,20,25,30,4]\n",
    "# Minimum number of samples required to split a node\n",
    "min_samples_split = [2,3,4, 5,6,7,8,9]\n",
    "# Minimum number of samples required at each leaf node\n",
    "min_samples_leaf = [1, 2,5,6,7,8]\n",
    "# Method of selecting samples for training each tree\n",
    "bootstrap = [True, False]\n",
    "\n",
    "# Create the param grid\n",
    "param_grid = {'n_estimators': n_estimators,\n",
    "               'max_features': max_features,\n",
    "               'max_depth': max_depth,\n",
    "               'min_samples_split': min_samples_split,\n",
    "               'min_samples_leaf': min_samples_leaf,\n",
    "               'bootstrap': bootstrap}\n",
    "\n",
    "#read the data\n",
    "DT_df =  pd.read_csv('train.csv', nrows = 100000)\n",
    "\n",
    "#generate new features\n",
    "add_travel_vector_features(DT_df)\n",
    "\n",
    "\n",
    "DT_df = DT_df.dropna(how = 'any', axis = 'rows')\n",
    "\n",
    "DT_df = DT_df[(DT_df.abs_diff_longitude < 0.5) & (DT_df.abs_diff_latitude < 0.5)]\n",
    "\n",
    "DT_X = get_input_matrix(DT_df)\n",
    "\n",
    "DT_y = np.array(DT_df['fare_amount'])\n",
    "\n",
    "DT_X_train, DT_X_test, DT_y_train, DT_y_test=train_test_split(DT_X, DT_y, test_size=0.2, random_state=3)\n",
    "\n",
    "\n",
    "model= RandomForestRegressor()\n",
    "\n",
    "#rf_Grid = GridSearchCV(estimator = model, param_grid = param_grid, cv = 3, verbose=2, n_jobs = 4)\n",
    "\n",
    "#rf_Grid.fit(DT_X_train, DT_y_train)\n",
    "\n",
    "#rf_Grid.best_params_\n",
    "\n",
    "#model= RandomForestRegressor(bootstrap= True,\n",
    "# max_depth= 4,\n",
    "# max_features= 'auto',\n",
    "# min_samples_leaf= 1,\n",
    "# min_samples_split= 5,\n",
    "# n_estimators= 10)\n",
    "\n",
    "model.fit(DT_X_train,DT_y_train)\n",
    "\n",
    "print(model.score(DT_X_train,DT_y_train ))\n",
    "print(model.score(DT_X_test,DT_y_test ))\n"
   ]
  },
  {
   "cell_type": "code",
   "execution_count": 36,
   "id": "bbedf13c",
   "metadata": {},
   "outputs": [],
   "source": [
    "train_df[\"date_parsed\"] = pd.to_datetime(train_df[\"pickup_datetime\"])\n",
    "\n",
    "train_df[\"Year\"] = train_df[\"date_parsed\"].dt.year\n",
    "\n",
    "train_df[\"Month\"] = train_df[\"date_parsed\"].dt.month\n",
    "\n",
    "train_df[\"Weekday\"] = train_df[\"date_parsed\"].dt.weekday\n",
    "\n",
    "train_df[\"hour\"] = train_df[\"date_parsed\"].dt.hour\n",
    "\n",
    "train_df = train_df.drop(columns = [\"pickup_datetime\", \"date_parsed\"])"
   ]
  },
  {
   "cell_type": "code",
   "execution_count": 12,
   "id": "03bf3247",
   "metadata": {},
   "outputs": [
    {
     "data": {
      "text/html": [
       "<div>\n",
       "<style scoped>\n",
       "    .dataframe tbody tr th:only-of-type {\n",
       "        vertical-align: middle;\n",
       "    }\n",
       "\n",
       "    .dataframe tbody tr th {\n",
       "        vertical-align: top;\n",
       "    }\n",
       "\n",
       "    .dataframe thead th {\n",
       "        text-align: right;\n",
       "    }\n",
       "</style>\n",
       "<table border=\"1\" class=\"dataframe\">\n",
       "  <thead>\n",
       "    <tr style=\"text-align: right;\">\n",
       "      <th></th>\n",
       "      <th>key</th>\n",
       "      <th>fare_amount</th>\n",
       "      <th>pickup_longitude</th>\n",
       "      <th>pickup_latitude</th>\n",
       "      <th>dropoff_longitude</th>\n",
       "      <th>dropoff_latitude</th>\n",
       "      <th>passenger_count</th>\n",
       "      <th>abs_diff_longitude</th>\n",
       "      <th>abs_diff_latitude</th>\n",
       "      <th>Year</th>\n",
       "      <th>Month</th>\n",
       "      <th>Weekday</th>\n",
       "      <th>hour</th>\n",
       "    </tr>\n",
       "  </thead>\n",
       "  <tbody>\n",
       "    <tr>\n",
       "      <th>0</th>\n",
       "      <td>2009-06-15 17:26:21.0000001</td>\n",
       "      <td>4.5</td>\n",
       "      <td>-73.844311</td>\n",
       "      <td>40.721319</td>\n",
       "      <td>-73.841610</td>\n",
       "      <td>40.712278</td>\n",
       "      <td>1</td>\n",
       "      <td>0.002701</td>\n",
       "      <td>0.009041</td>\n",
       "      <td>2009</td>\n",
       "      <td>6</td>\n",
       "      <td>0</td>\n",
       "      <td>17</td>\n",
       "    </tr>\n",
       "    <tr>\n",
       "      <th>1</th>\n",
       "      <td>2010-01-05 16:52:16.0000002</td>\n",
       "      <td>16.9</td>\n",
       "      <td>-74.016048</td>\n",
       "      <td>40.711303</td>\n",
       "      <td>-73.979268</td>\n",
       "      <td>40.782004</td>\n",
       "      <td>1</td>\n",
       "      <td>0.036780</td>\n",
       "      <td>0.070701</td>\n",
       "      <td>2010</td>\n",
       "      <td>1</td>\n",
       "      <td>1</td>\n",
       "      <td>16</td>\n",
       "    </tr>\n",
       "    <tr>\n",
       "      <th>2</th>\n",
       "      <td>2011-08-18 00:35:00.00000049</td>\n",
       "      <td>5.7</td>\n",
       "      <td>-73.982738</td>\n",
       "      <td>40.761270</td>\n",
       "      <td>-73.991242</td>\n",
       "      <td>40.750562</td>\n",
       "      <td>2</td>\n",
       "      <td>0.008504</td>\n",
       "      <td>0.010708</td>\n",
       "      <td>2011</td>\n",
       "      <td>8</td>\n",
       "      <td>3</td>\n",
       "      <td>0</td>\n",
       "    </tr>\n",
       "    <tr>\n",
       "      <th>3</th>\n",
       "      <td>2012-04-21 04:30:42.0000001</td>\n",
       "      <td>7.7</td>\n",
       "      <td>-73.987130</td>\n",
       "      <td>40.733143</td>\n",
       "      <td>-73.991567</td>\n",
       "      <td>40.758092</td>\n",
       "      <td>1</td>\n",
       "      <td>0.004437</td>\n",
       "      <td>0.024949</td>\n",
       "      <td>2012</td>\n",
       "      <td>4</td>\n",
       "      <td>5</td>\n",
       "      <td>4</td>\n",
       "    </tr>\n",
       "    <tr>\n",
       "      <th>4</th>\n",
       "      <td>2010-03-09 07:51:00.000000135</td>\n",
       "      <td>5.3</td>\n",
       "      <td>-73.968095</td>\n",
       "      <td>40.768008</td>\n",
       "      <td>-73.956655</td>\n",
       "      <td>40.783762</td>\n",
       "      <td>1</td>\n",
       "      <td>0.011440</td>\n",
       "      <td>0.015754</td>\n",
       "      <td>2010</td>\n",
       "      <td>3</td>\n",
       "      <td>1</td>\n",
       "      <td>7</td>\n",
       "    </tr>\n",
       "  </tbody>\n",
       "</table>\n",
       "</div>"
      ],
      "text/plain": [
       "                             key  fare_amount  pickup_longitude  \\\n",
       "0    2009-06-15 17:26:21.0000001          4.5        -73.844311   \n",
       "1    2010-01-05 16:52:16.0000002         16.9        -74.016048   \n",
       "2   2011-08-18 00:35:00.00000049          5.7        -73.982738   \n",
       "3    2012-04-21 04:30:42.0000001          7.7        -73.987130   \n",
       "4  2010-03-09 07:51:00.000000135          5.3        -73.968095   \n",
       "\n",
       "   pickup_latitude  dropoff_longitude  dropoff_latitude  passenger_count  \\\n",
       "0        40.721319         -73.841610         40.712278                1   \n",
       "1        40.711303         -73.979268         40.782004                1   \n",
       "2        40.761270         -73.991242         40.750562                2   \n",
       "3        40.733143         -73.991567         40.758092                1   \n",
       "4        40.768008         -73.956655         40.783762                1   \n",
       "\n",
       "   abs_diff_longitude  abs_diff_latitude  Year  Month  Weekday  hour  \n",
       "0            0.002701           0.009041  2009      6        0    17  \n",
       "1            0.036780           0.070701  2010      1        1    16  \n",
       "2            0.008504           0.010708  2011      8        3     0  \n",
       "3            0.004437           0.024949  2012      4        5     4  \n",
       "4            0.011440           0.015754  2010      3        1     7  "
      ]
     },
     "execution_count": 12,
     "metadata": {},
     "output_type": "execute_result"
    }
   ],
   "source": [
    "train_df.head()"
   ]
  },
  {
   "cell_type": "markdown",
   "id": "961e7eb9",
   "metadata": {},
   "source": [
    "#### Does Month affects the Fare Amount?"
   ]
  },
  {
   "cell_type": "code",
   "execution_count": 13,
   "id": "a832b1cb",
   "metadata": {},
   "outputs": [
    {
     "data": {
      "text/plain": [
       "<AxesSubplot:xlabel='Month', ylabel='count'>"
      ]
     },
     "execution_count": 13,
     "metadata": {},
     "output_type": "execute_result"
    },
    {
     "data": {
      "image/png": "[encoded data removed]",
      "text/plain": [
       "<Figure size 432x288 with 1 Axes>"
      ]
     },
     "metadata": {
      "needs_background": "light"
     },
     "output_type": "display_data"
    }
   ],
   "source": [
    "import seaborn as sns\n",
    "sns.countplot(x = train_df[\"Month\"])"
   ]
  },
  {
   "cell_type": "markdown",
   "id": "279fb3db",
   "metadata": {},
   "source": [
    "#### Does Fare Amount Changed with Year?"
   ]
  },
  {
   "cell_type": "code",
   "execution_count": 14,
   "id": "2669be6b",
   "metadata": {},
   "outputs": [
    {
     "data": {
      "text/plain": [
       "<AxesSubplot:xlabel='Year', ylabel='count'>"
      ]
     },
     "execution_count": 14,
     "metadata": {},
     "output_type": "execute_result"
    },
    {
     "data": {
      "image/png": "[encoded data removed]",
      "text/plain": [
       "<Figure size 432x288 with 1 Axes>"
      ]
     },
     "metadata": {
      "needs_background": "light"
     },
     "output_type": "display_data"
    }
   ],
   "source": [
    "sns.countplot(x = train_df[\"Year\"])"
   ]
  },
  {
   "cell_type": "markdown",
   "id": "beadbd89",
   "metadata": {},
   "source": [
    "#### Does Hour affects the Fare Amount?"
   ]
  },
  {
   "cell_type": "code",
   "execution_count": 15,
   "id": "d9f5f329",
   "metadata": {},
   "outputs": [
    {
     "data": {
      "text/plain": [
       "<AxesSubplot:xlabel='hour', ylabel='count'>"
      ]
     },
     "execution_count": 15,
     "metadata": {},
     "output_type": "execute_result"
    },
    {
     "data": {
      "image/png": "[encoded data removed]",
      "text/plain": [
       "<Figure size 936x504 with 1 Axes>"
      ]
     },
     "metadata": {
      "needs_background": "light"
     },
     "output_type": "display_data"
    }
   ],
   "source": [
    "plt.figure(figsize=(13, 7))\n",
    "sns.countplot(x = train_df[\"hour\"])"
   ]
  },
  {
   "cell_type": "markdown",
   "id": "8c0ea202",
   "metadata": {},
   "source": [
    "#### Does number of Passengers affects the Fare Amount?"
   ]
  },
  {
   "cell_type": "code",
   "execution_count": 10,
   "id": "7cf7d403",
   "metadata": {},
   "outputs": [
    {
     "data": {
      "text/plain": [
       "<AxesSubplot:xlabel='passenger_count', ylabel='count'>"
      ]
     },
     "execution_count": 10,
     "metadata": {},
     "output_type": "execute_result"
    },
    {
     "data": {
      "image/png": "[encoded data removed]",
      "text/plain": [
       "<Figure size 432x288 with 1 Axes>"
      ]
     },
     "metadata": {
      "needs_background": "light"
     },
     "output_type": "display_data"
    }
   ],
   "source": [
    "sns.countplot(x = train_df[\"passenger_count\"])"
   ]
  },
  {
   "cell_type": "code",
   "execution_count": null,
   "id": "24316263",
   "metadata": {},
   "outputs": [],
   "source": []
  }
 ],
 "metadata": {
  "kernelspec": {
   "display_name": "Python 3 (ipykernel)",
   "language": "python",
   "name": "python3"
  },
  "language_info": {
   "codemirror_mode": {
    "name": "ipython",
    "version": 3
   },
   "file_extension": ".py",
   "mimetype": "text/x-python",
   "name": "python",
   "nbconvert_exporter": "python",
   "pygments_lexer": "ipython3",
   "version": "3.9.12"
  }
 },
 "nbformat": 4,
 "nbformat_minor": 5
}
